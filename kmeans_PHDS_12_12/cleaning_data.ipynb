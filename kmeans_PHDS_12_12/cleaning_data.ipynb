{
  "cells": [
    {
      "metadata": {},
      "cell_type": "markdown",
      "source": "# Cleaning data \n"
    },
    {
      "metadata": {
        "trusted": true
      },
      "cell_type": "code",
      "source": "import pandas as pd\nimport numpy as np\nfrom tableone import TableOne\nimport warnings\nwarnings.filterwarnings('ignore')",
      "execution_count": 2,
      "outputs": []
    },
    {
      "metadata": {},
      "cell_type": "markdown",
      "source": "Load and inspect the dataset:"
    },
    {
      "metadata": {
        "trusted": true
      },
      "cell_type": "code",
      "source": "data = pd.read_csv('diabetic_data.csv')\ndata.head()",
      "execution_count": 3,
      "outputs": [
        {
          "output_type": "execute_result",
          "execution_count": 3,
          "data": {
            "text/plain": "   encounter_id  patient_nbr             race  gender      age weight  \\\n0       2278392      8222157        Caucasian  Female   [0-10)      ?   \n1        149190     55629189        Caucasian  Female  [10-20)      ?   \n2         64410     86047875  AfricanAmerican  Female  [20-30)      ?   \n3        500364     82442376        Caucasian    Male  [30-40)      ?   \n4         16680     42519267        Caucasian    Male  [40-50)      ?   \n\n   admission_type_id  discharge_disposition_id  admission_source_id  \\\n0                  6                        25                    1   \n1                  1                         1                    7   \n2                  1                         1                    7   \n3                  1                         1                    7   \n4                  1                         1                    7   \n\n   time_in_hospital    ...     citoglipton insulin  glyburide-metformin  \\\n0                 1    ...              No      No                   No   \n1                 3    ...              No      Up                   No   \n2                 2    ...              No      No                   No   \n3                 2    ...              No      Up                   No   \n4                 1    ...              No  Steady                   No   \n\n   glipizide-metformin  glimepiride-pioglitazone  metformin-rosiglitazone  \\\n0                   No                        No                       No   \n1                   No                        No                       No   \n2                   No                        No                       No   \n3                   No                        No                       No   \n4                   No                        No                       No   \n\n   metformin-pioglitazone  change diabetesMed readmitted  \n0                      No      No          No         NO  \n1                      No      Ch         Yes        >30  \n2                      No      No         Yes         NO  \n3                      No      Ch         Yes         NO  \n4                      No      Ch         Yes         NO  \n\n[5 rows x 50 columns]",
            "text/html": "<div>\n<style scoped>\n    .dataframe tbody tr th:only-of-type {\n        vertical-align: middle;\n    }\n\n    .dataframe tbody tr th {\n        vertical-align: top;\n    }\n\n    .dataframe thead th {\n        text-align: right;\n    }\n</style>\n<table border=\"1\" class=\"dataframe\">\n  <thead>\n    <tr style=\"text-align: right;\">\n      <th></th>\n      <th>encounter_id</th>\n      <th>patient_nbr</th>\n      <th>race</th>\n      <th>gender</th>\n      <th>age</th>\n      <th>weight</th>\n      <th>admission_type_id</th>\n      <th>discharge_disposition_id</th>\n      <th>admission_source_id</th>\n      <th>time_in_hospital</th>\n      <th>...</th>\n      <th>citoglipton</th>\n      <th>insulin</th>\n      <th>glyburide-metformin</th>\n      <th>glipizide-metformin</th>\n      <th>glimepiride-pioglitazone</th>\n      <th>metformin-rosiglitazone</th>\n      <th>metformin-pioglitazone</th>\n      <th>change</th>\n      <th>diabetesMed</th>\n      <th>readmitted</th>\n    </tr>\n  </thead>\n  <tbody>\n    <tr>\n      <th>0</th>\n      <td>2278392</td>\n      <td>8222157</td>\n      <td>Caucasian</td>\n      <td>Female</td>\n      <td>[0-10)</td>\n      <td>?</td>\n      <td>6</td>\n      <td>25</td>\n      <td>1</td>\n      <td>1</td>\n      <td>...</td>\n      <td>No</td>\n      <td>No</td>\n      <td>No</td>\n      <td>No</td>\n      <td>No</td>\n      <td>No</td>\n      <td>No</td>\n      <td>No</td>\n      <td>No</td>\n      <td>NO</td>\n    </tr>\n    <tr>\n      <th>1</th>\n      <td>149190</td>\n      <td>55629189</td>\n      <td>Caucasian</td>\n      <td>Female</td>\n      <td>[10-20)</td>\n      <td>?</td>\n      <td>1</td>\n      <td>1</td>\n      <td>7</td>\n      <td>3</td>\n      <td>...</td>\n      <td>No</td>\n      <td>Up</td>\n      <td>No</td>\n      <td>No</td>\n      <td>No</td>\n      <td>No</td>\n      <td>No</td>\n      <td>Ch</td>\n      <td>Yes</td>\n      <td>&gt;30</td>\n    </tr>\n    <tr>\n      <th>2</th>\n      <td>64410</td>\n      <td>86047875</td>\n      <td>AfricanAmerican</td>\n      <td>Female</td>\n      <td>[20-30)</td>\n      <td>?</td>\n      <td>1</td>\n      <td>1</td>\n      <td>7</td>\n      <td>2</td>\n      <td>...</td>\n      <td>No</td>\n      <td>No</td>\n      <td>No</td>\n      <td>No</td>\n      <td>No</td>\n      <td>No</td>\n      <td>No</td>\n      <td>No</td>\n      <td>Yes</td>\n      <td>NO</td>\n    </tr>\n    <tr>\n      <th>3</th>\n      <td>500364</td>\n      <td>82442376</td>\n      <td>Caucasian</td>\n      <td>Male</td>\n      <td>[30-40)</td>\n      <td>?</td>\n      <td>1</td>\n      <td>1</td>\n      <td>7</td>\n      <td>2</td>\n      <td>...</td>\n      <td>No</td>\n      <td>Up</td>\n      <td>No</td>\n      <td>No</td>\n      <td>No</td>\n      <td>No</td>\n      <td>No</td>\n      <td>Ch</td>\n      <td>Yes</td>\n      <td>NO</td>\n    </tr>\n    <tr>\n      <th>4</th>\n      <td>16680</td>\n      <td>42519267</td>\n      <td>Caucasian</td>\n      <td>Male</td>\n      <td>[40-50)</td>\n      <td>?</td>\n      <td>1</td>\n      <td>1</td>\n      <td>7</td>\n      <td>1</td>\n      <td>...</td>\n      <td>No</td>\n      <td>Steady</td>\n      <td>No</td>\n      <td>No</td>\n      <td>No</td>\n      <td>No</td>\n      <td>No</td>\n      <td>Ch</td>\n      <td>Yes</td>\n      <td>NO</td>\n    </tr>\n  </tbody>\n</table>\n<p>5 rows × 50 columns</p>\n</div>"
          },
          "metadata": {}
        }
      ]
    },
    {
      "metadata": {
        "trusted": true
      },
      "cell_type": "code",
      "source": "data.shape",
      "execution_count": 4,
      "outputs": [
        {
          "output_type": "execute_result",
          "execution_count": 4,
          "data": {
            "text/plain": "(101766, 50)"
          },
          "metadata": {}
        }
      ]
    },
    {
      "metadata": {
        "trusted": true
      },
      "cell_type": "code",
      "source": "data.columns",
      "execution_count": 5,
      "outputs": [
        {
          "output_type": "execute_result",
          "execution_count": 5,
          "data": {
            "text/plain": "Index([u'encounter_id', u'patient_nbr', u'race', u'gender', u'age', u'weight',\n       u'admission_type_id', u'discharge_disposition_id',\n       u'admission_source_id', u'time_in_hospital', u'payer_code',\n       u'medical_specialty', u'num_lab_procedures', u'num_procedures',\n       u'num_medications', u'number_outpatient', u'number_emergency',\n       u'number_inpatient', u'diag_1', u'diag_2', u'diag_3',\n       u'number_diagnoses', u'max_glu_serum', u'A1Cresult', u'metformin',\n       u'repaglinide', u'nateglinide', u'chlorpropamide', u'glimepiride',\n       u'acetohexamide', u'glipizide', u'glyburide', u'tolbutamide',\n       u'pioglitazone', u'rosiglitazone', u'acarbose', u'miglitol',\n       u'troglitazone', u'tolazamide', u'examide', u'citoglipton', u'insulin',\n       u'glyburide-metformin', u'glipizide-metformin',\n       u'glimepiride-pioglitazone', u'metformin-rosiglitazone',\n       u'metformin-pioglitazone', u'change', u'diabetesMed', u'readmitted'],\n      dtype='object')"
          },
          "metadata": {}
        }
      ]
    },
    {
      "metadata": {},
      "cell_type": "markdown",
      "source": "Inspect the data types and compare to what you expect based on the data description"
    },
    {
      "metadata": {
        "trusted": true
      },
      "cell_type": "code",
      "source": "data.dtypes",
      "execution_count": 6,
      "outputs": [
        {
          "output_type": "execute_result",
          "execution_count": 6,
          "data": {
            "text/plain": "encounter_id                 int64\npatient_nbr                  int64\nrace                        object\ngender                      object\nage                         object\nweight                      object\nadmission_type_id            int64\ndischarge_disposition_id     int64\nadmission_source_id          int64\ntime_in_hospital             int64\npayer_code                  object\nmedical_specialty           object\nnum_lab_procedures           int64\nnum_procedures               int64\nnum_medications              int64\nnumber_outpatient            int64\nnumber_emergency             int64\nnumber_inpatient             int64\ndiag_1                      object\ndiag_2                      object\ndiag_3                      object\nnumber_diagnoses             int64\nmax_glu_serum               object\nA1Cresult                   object\nmetformin                   object\nrepaglinide                 object\nnateglinide                 object\nchlorpropamide              object\nglimepiride                 object\nacetohexamide               object\nglipizide                   object\nglyburide                   object\ntolbutamide                 object\npioglitazone                object\nrosiglitazone               object\nacarbose                    object\nmiglitol                    object\ntroglitazone                object\ntolazamide                  object\nexamide                     object\ncitoglipton                 object\ninsulin                     object\nglyburide-metformin         object\nglipizide-metformin         object\nglimepiride-pioglitazone    object\nmetformin-rosiglitazone     object\nmetformin-pioglitazone      object\nchange                      object\ndiabetesMed                 object\nreadmitted                  object\ndtype: object"
          },
          "metadata": {}
        }
      ]
    },
    {
      "metadata": {
        "trusted": true
      },
      "cell_type": "code",
      "source": "data.admission_type_id = data.admission_type_id.astype('O')\ndata.admission_source_id = data.admission_source_id.astype('O')",
      "execution_count": 7,
      "outputs": []
    },
    {
      "metadata": {},
      "cell_type": "markdown",
      "source": "## Missingness\n\nHow are missing values recorded? Also refer to the variable description table."
    },
    {
      "metadata": {
        "trusted": true
      },
      "cell_type": "code",
      "source": "data.replace('None', np.nan, inplace=True)\ndata.replace('^[?]+$', value=np.nan, regex=True, inplace=True)",
      "execution_count": 8,
      "outputs": []
    },
    {
      "metadata": {},
      "cell_type": "markdown",
      "source": "Describe \"object\" (categorical) type columns"
    },
    {
      "metadata": {
        "trusted": true
      },
      "cell_type": "code",
      "source": "data.describe(include=['O'])",
      "execution_count": 9,
      "outputs": [
        {
          "output_type": "execute_result",
          "execution_count": 9,
          "data": {
            "text/plain": "             race  gender      age    weight payer_code medical_specialty  \\\ncount       99493  101766   101766      3197      61510             51817   \nunique          5       3       10         9         17                72   \ntop     Caucasian  Female  [70-80)  [75-100)         MC  InternalMedicine   \nfreq        76099   54708    26068      1336      32439             14635   \n\n        diag_1  diag_2  diag_3 max_glu_serum    ...     citoglipton insulin  \\\ncount   101745  101408  100343          5346    ...          101766  101766   \nunique     716     748     789             3    ...               1       4   \ntop        428     276     250          Norm    ...              No      No   \nfreq      6862    6752   11555          2597    ...          101766   47383   \n\n       glyburide-metformin glipizide-metformin glimepiride-pioglitazone  \\\ncount               101766              101766                   101766   \nunique                   4                   2                        2   \ntop                     No                  No                       No   \nfreq                101060              101753                   101765   \n\n       metformin-rosiglitazone metformin-pioglitazone  change diabetesMed  \\\ncount                   101766                 101766  101766      101766   \nunique                       2                      2       2           2   \ntop                         No                     No      No         Yes   \nfreq                    101764                 101765   54755       78363   \n\n       readmitted  \ncount      101766  \nunique          3  \ntop            NO  \nfreq        54864  \n\n[4 rows x 37 columns]",
            "text/html": "<div>\n<style scoped>\n    .dataframe tbody tr th:only-of-type {\n        vertical-align: middle;\n    }\n\n    .dataframe tbody tr th {\n        vertical-align: top;\n    }\n\n    .dataframe thead th {\n        text-align: right;\n    }\n</style>\n<table border=\"1\" class=\"dataframe\">\n  <thead>\n    <tr style=\"text-align: right;\">\n      <th></th>\n      <th>race</th>\n      <th>gender</th>\n      <th>age</th>\n      <th>weight</th>\n      <th>payer_code</th>\n      <th>medical_specialty</th>\n      <th>diag_1</th>\n      <th>diag_2</th>\n      <th>diag_3</th>\n      <th>max_glu_serum</th>\n      <th>...</th>\n      <th>citoglipton</th>\n      <th>insulin</th>\n      <th>glyburide-metformin</th>\n      <th>glipizide-metformin</th>\n      <th>glimepiride-pioglitazone</th>\n      <th>metformin-rosiglitazone</th>\n      <th>metformin-pioglitazone</th>\n      <th>change</th>\n      <th>diabetesMed</th>\n      <th>readmitted</th>\n    </tr>\n  </thead>\n  <tbody>\n    <tr>\n      <th>count</th>\n      <td>99493</td>\n      <td>101766</td>\n      <td>101766</td>\n      <td>3197</td>\n      <td>61510</td>\n      <td>51817</td>\n      <td>101745</td>\n      <td>101408</td>\n      <td>100343</td>\n      <td>5346</td>\n      <td>...</td>\n      <td>101766</td>\n      <td>101766</td>\n      <td>101766</td>\n      <td>101766</td>\n      <td>101766</td>\n      <td>101766</td>\n      <td>101766</td>\n      <td>101766</td>\n      <td>101766</td>\n      <td>101766</td>\n    </tr>\n    <tr>\n      <th>unique</th>\n      <td>5</td>\n      <td>3</td>\n      <td>10</td>\n      <td>9</td>\n      <td>17</td>\n      <td>72</td>\n      <td>716</td>\n      <td>748</td>\n      <td>789</td>\n      <td>3</td>\n      <td>...</td>\n      <td>1</td>\n      <td>4</td>\n      <td>4</td>\n      <td>2</td>\n      <td>2</td>\n      <td>2</td>\n      <td>2</td>\n      <td>2</td>\n      <td>2</td>\n      <td>3</td>\n    </tr>\n    <tr>\n      <th>top</th>\n      <td>Caucasian</td>\n      <td>Female</td>\n      <td>[70-80)</td>\n      <td>[75-100)</td>\n      <td>MC</td>\n      <td>InternalMedicine</td>\n      <td>428</td>\n      <td>276</td>\n      <td>250</td>\n      <td>Norm</td>\n      <td>...</td>\n      <td>No</td>\n      <td>No</td>\n      <td>No</td>\n      <td>No</td>\n      <td>No</td>\n      <td>No</td>\n      <td>No</td>\n      <td>No</td>\n      <td>Yes</td>\n      <td>NO</td>\n    </tr>\n    <tr>\n      <th>freq</th>\n      <td>76099</td>\n      <td>54708</td>\n      <td>26068</td>\n      <td>1336</td>\n      <td>32439</td>\n      <td>14635</td>\n      <td>6862</td>\n      <td>6752</td>\n      <td>11555</td>\n      <td>2597</td>\n      <td>...</td>\n      <td>101766</td>\n      <td>47383</td>\n      <td>101060</td>\n      <td>101753</td>\n      <td>101765</td>\n      <td>101764</td>\n      <td>101765</td>\n      <td>54755</td>\n      <td>78363</td>\n      <td>54864</td>\n    </tr>\n  </tbody>\n</table>\n<p>4 rows × 37 columns</p>\n</div>"
          },
          "metadata": {}
        }
      ]
    },
    {
      "metadata": {},
      "cell_type": "markdown",
      "source": "Describe the numerical columns"
    },
    {
      "metadata": {
        "trusted": true
      },
      "cell_type": "code",
      "source": "data.describe(include=['int'])",
      "execution_count": 10,
      "outputs": [
        {
          "output_type": "execute_result",
          "execution_count": 10,
          "data": {
            "text/plain": "       encounter_id   patient_nbr  admission_type_id  \\\ncount  1.017660e+05  1.017660e+05      101766.000000   \nmean   1.652016e+08  5.433040e+07           2.024006   \nstd    1.026403e+08  3.869636e+07           1.445403   \nmin    1.252200e+04  1.350000e+02           1.000000   \n25%    8.496119e+07  2.341322e+07           1.000000   \n50%    1.523890e+08  4.550514e+07           1.000000   \n75%    2.302709e+08  8.754595e+07           3.000000   \nmax    4.438672e+08  1.895026e+08           8.000000   \n\n       discharge_disposition_id  admission_source_id  time_in_hospital  \\\ncount             101766.000000        101766.000000     101766.000000   \nmean                   3.715642             5.754437          4.395987   \nstd                    5.280166             4.064081          2.985108   \nmin                    1.000000             1.000000          1.000000   \n25%                    1.000000             1.000000          2.000000   \n50%                    1.000000             7.000000          4.000000   \n75%                    4.000000             7.000000          6.000000   \nmax                   28.000000            25.000000         14.000000   \n\n       num_lab_procedures  num_procedures  num_medications  number_outpatient  \\\ncount       101766.000000   101766.000000    101766.000000      101766.000000   \nmean            43.095641        1.339730        16.021844           0.369357   \nstd             19.674362        1.705807         8.127566           1.267265   \nmin              1.000000        0.000000         1.000000           0.000000   \n25%             31.000000        0.000000        10.000000           0.000000   \n50%             44.000000        1.000000        15.000000           0.000000   \n75%             57.000000        2.000000        20.000000           0.000000   \nmax            132.000000        6.000000        81.000000          42.000000   \n\n       number_emergency  number_inpatient  number_diagnoses  \ncount     101766.000000     101766.000000     101766.000000  \nmean           0.197836          0.635566          7.422607  \nstd            0.930472          1.262863          1.933600  \nmin            0.000000          0.000000          1.000000  \n25%            0.000000          0.000000          6.000000  \n50%            0.000000          0.000000          8.000000  \n75%            0.000000          1.000000          9.000000  \nmax           76.000000         21.000000         16.000000  ",
            "text/html": "<div>\n<style scoped>\n    .dataframe tbody tr th:only-of-type {\n        vertical-align: middle;\n    }\n\n    .dataframe tbody tr th {\n        vertical-align: top;\n    }\n\n    .dataframe thead th {\n        text-align: right;\n    }\n</style>\n<table border=\"1\" class=\"dataframe\">\n  <thead>\n    <tr style=\"text-align: right;\">\n      <th></th>\n      <th>encounter_id</th>\n      <th>patient_nbr</th>\n      <th>admission_type_id</th>\n      <th>discharge_disposition_id</th>\n      <th>admission_source_id</th>\n      <th>time_in_hospital</th>\n      <th>num_lab_procedures</th>\n      <th>num_procedures</th>\n      <th>num_medications</th>\n      <th>number_outpatient</th>\n      <th>number_emergency</th>\n      <th>number_inpatient</th>\n      <th>number_diagnoses</th>\n    </tr>\n  </thead>\n  <tbody>\n    <tr>\n      <th>count</th>\n      <td>1.017660e+05</td>\n      <td>1.017660e+05</td>\n      <td>101766.000000</td>\n      <td>101766.000000</td>\n      <td>101766.000000</td>\n      <td>101766.000000</td>\n      <td>101766.000000</td>\n      <td>101766.000000</td>\n      <td>101766.000000</td>\n      <td>101766.000000</td>\n      <td>101766.000000</td>\n      <td>101766.000000</td>\n      <td>101766.000000</td>\n    </tr>\n    <tr>\n      <th>mean</th>\n      <td>1.652016e+08</td>\n      <td>5.433040e+07</td>\n      <td>2.024006</td>\n      <td>3.715642</td>\n      <td>5.754437</td>\n      <td>4.395987</td>\n      <td>43.095641</td>\n      <td>1.339730</td>\n      <td>16.021844</td>\n      <td>0.369357</td>\n      <td>0.197836</td>\n      <td>0.635566</td>\n      <td>7.422607</td>\n    </tr>\n    <tr>\n      <th>std</th>\n      <td>1.026403e+08</td>\n      <td>3.869636e+07</td>\n      <td>1.445403</td>\n      <td>5.280166</td>\n      <td>4.064081</td>\n      <td>2.985108</td>\n      <td>19.674362</td>\n      <td>1.705807</td>\n      <td>8.127566</td>\n      <td>1.267265</td>\n      <td>0.930472</td>\n      <td>1.262863</td>\n      <td>1.933600</td>\n    </tr>\n    <tr>\n      <th>min</th>\n      <td>1.252200e+04</td>\n      <td>1.350000e+02</td>\n      <td>1.000000</td>\n      <td>1.000000</td>\n      <td>1.000000</td>\n      <td>1.000000</td>\n      <td>1.000000</td>\n      <td>0.000000</td>\n      <td>1.000000</td>\n      <td>0.000000</td>\n      <td>0.000000</td>\n      <td>0.000000</td>\n      <td>1.000000</td>\n    </tr>\n    <tr>\n      <th>25%</th>\n      <td>8.496119e+07</td>\n      <td>2.341322e+07</td>\n      <td>1.000000</td>\n      <td>1.000000</td>\n      <td>1.000000</td>\n      <td>2.000000</td>\n      <td>31.000000</td>\n      <td>0.000000</td>\n      <td>10.000000</td>\n      <td>0.000000</td>\n      <td>0.000000</td>\n      <td>0.000000</td>\n      <td>6.000000</td>\n    </tr>\n    <tr>\n      <th>50%</th>\n      <td>1.523890e+08</td>\n      <td>4.550514e+07</td>\n      <td>1.000000</td>\n      <td>1.000000</td>\n      <td>7.000000</td>\n      <td>4.000000</td>\n      <td>44.000000</td>\n      <td>1.000000</td>\n      <td>15.000000</td>\n      <td>0.000000</td>\n      <td>0.000000</td>\n      <td>0.000000</td>\n      <td>8.000000</td>\n    </tr>\n    <tr>\n      <th>75%</th>\n      <td>2.302709e+08</td>\n      <td>8.754595e+07</td>\n      <td>3.000000</td>\n      <td>4.000000</td>\n      <td>7.000000</td>\n      <td>6.000000</td>\n      <td>57.000000</td>\n      <td>2.000000</td>\n      <td>20.000000</td>\n      <td>0.000000</td>\n      <td>0.000000</td>\n      <td>1.000000</td>\n      <td>9.000000</td>\n    </tr>\n    <tr>\n      <th>max</th>\n      <td>4.438672e+08</td>\n      <td>1.895026e+08</td>\n      <td>8.000000</td>\n      <td>28.000000</td>\n      <td>25.000000</td>\n      <td>14.000000</td>\n      <td>132.000000</td>\n      <td>6.000000</td>\n      <td>81.000000</td>\n      <td>42.000000</td>\n      <td>76.000000</td>\n      <td>21.000000</td>\n      <td>16.000000</td>\n    </tr>\n  </tbody>\n</table>\n</div>"
          },
          "metadata": {}
        }
      ]
    },
    {
      "metadata": {
        "trusted": true
      },
      "cell_type": "code",
      "source": "for column in data.columns:\n    if data[column].dtypes == 'O':\n        missing = len(data[data[column].isnull()])\n        print \"%-*s  %-*s\" % (25,column, 3, 100*round(missing/float(data.shape[0]),2))",
      "execution_count": 11,
      "outputs": [
        {
          "output_type": "stream",
          "text": "race                       2.0\ngender                     0.0\nage                        0.0\nweight                     97.0\npayer_code                 40.0\nmedical_specialty          49.0\ndiag_1                     0.0\ndiag_2                     0.0\ndiag_3                     1.0\nmax_glu_serum              95.0\nA1Cresult                  83.0\nmetformin                  0.0\nrepaglinide                0.0\nnateglinide                0.0\nchlorpropamide             0.0\nglimepiride                0.0\nacetohexamide              0.0\nglipizide                  0.0\nglyburide                  0.0\ntolbutamide                0.0\npioglitazone               0.0\nrosiglitazone              0.0\nacarbose                   0.0\nmiglitol                   0.0\ntroglitazone               0.0\ntolazamide                 0.0\nexamide                    0.0\ncitoglipton                0.0\ninsulin                    0.0\nglyburide-metformin        0.0\nglipizide-metformin        0.0\nglimepiride-pioglitazone   0.0\nmetformin-rosiglitazone    0.0\nmetformin-pioglitazone     0.0\nchange                     0.0\ndiabetesMed                0.0\nreadmitted                 0.0\n",
          "name": "stdout"
        }
      ]
    },
    {
      "metadata": {},
      "cell_type": "markdown",
      "source": "Weight information is missing for 97% of the observations according to the variable description table. Let's get rid of it.\n\nThe same goes for max_glu_serum, A1Cresult, payer_code and medical_specialty that also have high missingness*:\n\n*<sup>whether we do this will always depend on the task at hand</sup>"
    },
    {
      "metadata": {
        "trusted": true
      },
      "cell_type": "code",
      "source": "data.drop(['weight', 'max_glu_serum', 'A1Cresult', 'payer_code', 'medical_specialty'], axis=1, inplace=True)",
      "execution_count": 12,
      "outputs": []
    },
    {
      "metadata": {
        "trusted": true
      },
      "cell_type": "code",
      "source": "data['number_emergency'].value_counts(normalize = True)",
      "execution_count": 14,
      "outputs": [
        {
          "output_type": "execute_result",
          "execution_count": 14,
          "data": {
            "text/plain": "0     0.888145\n1     0.075438\n2     0.020066\n3     0.007124\n4     0.003675\n5     0.001887\n6     0.000924\n7     0.000717\n8     0.000491\n10    0.000334\n9     0.000324\n11    0.000226\n13    0.000118\n12    0.000098\n22    0.000059\n18    0.000049\n16    0.000049\n19    0.000039\n20    0.000039\n14    0.000029\n15    0.000029\n21    0.000020\n25    0.000020\n76    0.000010\n54    0.000010\n24    0.000010\n28    0.000010\n29    0.000010\n37    0.000010\n42    0.000010\n46    0.000010\n64    0.000010\n63    0.000010\nName: number_emergency, dtype: float64"
          },
          "metadata": {}
        }
      ]
    },
    {
      "metadata": {},
      "cell_type": "markdown",
      "source": "Nearly 90% of patients have had no emergency visits so we will delete this column"
    },
    {
      "metadata": {
        "trusted": true
      },
      "cell_type": "code",
      "source": "data.drop(['number_emergency'], axis = 1, inplace = True)",
      "execution_count": 18,
      "outputs": []
    },
    {
      "metadata": {},
      "cell_type": "markdown",
      "source": "Now let's drop all patients with no race information:"
    },
    {
      "metadata": {
        "trusted": true
      },
      "cell_type": "code",
      "source": "data.shape",
      "execution_count": 19,
      "outputs": [
        {
          "output_type": "execute_result",
          "execution_count": 19,
          "data": {
            "text/plain": "(101766, 44)"
          },
          "metadata": {}
        }
      ]
    },
    {
      "metadata": {
        "trusted": true
      },
      "cell_type": "code",
      "source": "data = data[data['race'] != '?'] #notice here we are removing rows\n\ndata = data[data['gender'] != 'Unknown/Invalid']\ndata.shape",
      "execution_count": 20,
      "outputs": [
        {
          "output_type": "execute_result",
          "execution_count": 20,
          "data": {
            "text/plain": "(101763, 44)"
          },
          "metadata": {}
        }
      ]
    },
    {
      "metadata": {},
      "cell_type": "markdown",
      "source": "We will treat each other missing value as a valid categorical value for the rest of out observation"
    },
    {
      "metadata": {
        "trusted": true
      },
      "cell_type": "code",
      "source": "data.head()",
      "execution_count": 21,
      "outputs": [
        {
          "output_type": "execute_result",
          "execution_count": 21,
          "data": {
            "text/plain": "   encounter_id  patient_nbr             race  gender      age  \\\n0       2278392      8222157        Caucasian  Female   [0-10)   \n1        149190     55629189        Caucasian  Female  [10-20)   \n2         64410     86047875  AfricanAmerican  Female  [20-30)   \n3        500364     82442376        Caucasian    Male  [30-40)   \n4         16680     42519267        Caucasian    Male  [40-50)   \n\n   admission_type_id  discharge_disposition_id  admission_source_id  \\\n0                  6                        25                    1   \n1                  1                         1                    7   \n2                  1                         1                    7   \n3                  1                         1                    7   \n4                  1                         1                    7   \n\n   time_in_hospital  num_lab_procedures    ...      citoglipton  insulin  \\\n0                 1                  41    ...               No       No   \n1                 3                  59    ...               No       Up   \n2                 2                  11    ...               No       No   \n3                 2                  44    ...               No       Up   \n4                 1                  51    ...               No   Steady   \n\n   glyburide-metformin  glipizide-metformin glimepiride-pioglitazone  \\\n0                   No                   No                       No   \n1                   No                   No                       No   \n2                   No                   No                       No   \n3                   No                   No                       No   \n4                   No                   No                       No   \n\n  metformin-rosiglitazone metformin-pioglitazone  change diabetesMed  \\\n0                      No                     No      No          No   \n1                      No                     No      Ch         Yes   \n2                      No                     No      No         Yes   \n3                      No                     No      Ch         Yes   \n4                      No                     No      Ch         Yes   \n\n  readmitted  \n0         NO  \n1        >30  \n2         NO  \n3         NO  \n4         NO  \n\n[5 rows x 44 columns]",
            "text/html": "<div>\n<style scoped>\n    .dataframe tbody tr th:only-of-type {\n        vertical-align: middle;\n    }\n\n    .dataframe tbody tr th {\n        vertical-align: top;\n    }\n\n    .dataframe thead th {\n        text-align: right;\n    }\n</style>\n<table border=\"1\" class=\"dataframe\">\n  <thead>\n    <tr style=\"text-align: right;\">\n      <th></th>\n      <th>encounter_id</th>\n      <th>patient_nbr</th>\n      <th>race</th>\n      <th>gender</th>\n      <th>age</th>\n      <th>admission_type_id</th>\n      <th>discharge_disposition_id</th>\n      <th>admission_source_id</th>\n      <th>time_in_hospital</th>\n      <th>num_lab_procedures</th>\n      <th>...</th>\n      <th>citoglipton</th>\n      <th>insulin</th>\n      <th>glyburide-metformin</th>\n      <th>glipizide-metformin</th>\n      <th>glimepiride-pioglitazone</th>\n      <th>metformin-rosiglitazone</th>\n      <th>metformin-pioglitazone</th>\n      <th>change</th>\n      <th>diabetesMed</th>\n      <th>readmitted</th>\n    </tr>\n  </thead>\n  <tbody>\n    <tr>\n      <th>0</th>\n      <td>2278392</td>\n      <td>8222157</td>\n      <td>Caucasian</td>\n      <td>Female</td>\n      <td>[0-10)</td>\n      <td>6</td>\n      <td>25</td>\n      <td>1</td>\n      <td>1</td>\n      <td>41</td>\n      <td>...</td>\n      <td>No</td>\n      <td>No</td>\n      <td>No</td>\n      <td>No</td>\n      <td>No</td>\n      <td>No</td>\n      <td>No</td>\n      <td>No</td>\n      <td>No</td>\n      <td>NO</td>\n    </tr>\n    <tr>\n      <th>1</th>\n      <td>149190</td>\n      <td>55629189</td>\n      <td>Caucasian</td>\n      <td>Female</td>\n      <td>[10-20)</td>\n      <td>1</td>\n      <td>1</td>\n      <td>7</td>\n      <td>3</td>\n      <td>59</td>\n      <td>...</td>\n      <td>No</td>\n      <td>Up</td>\n      <td>No</td>\n      <td>No</td>\n      <td>No</td>\n      <td>No</td>\n      <td>No</td>\n      <td>Ch</td>\n      <td>Yes</td>\n      <td>&gt;30</td>\n    </tr>\n    <tr>\n      <th>2</th>\n      <td>64410</td>\n      <td>86047875</td>\n      <td>AfricanAmerican</td>\n      <td>Female</td>\n      <td>[20-30)</td>\n      <td>1</td>\n      <td>1</td>\n      <td>7</td>\n      <td>2</td>\n      <td>11</td>\n      <td>...</td>\n      <td>No</td>\n      <td>No</td>\n      <td>No</td>\n      <td>No</td>\n      <td>No</td>\n      <td>No</td>\n      <td>No</td>\n      <td>No</td>\n      <td>Yes</td>\n      <td>NO</td>\n    </tr>\n    <tr>\n      <th>3</th>\n      <td>500364</td>\n      <td>82442376</td>\n      <td>Caucasian</td>\n      <td>Male</td>\n      <td>[30-40)</td>\n      <td>1</td>\n      <td>1</td>\n      <td>7</td>\n      <td>2</td>\n      <td>44</td>\n      <td>...</td>\n      <td>No</td>\n      <td>Up</td>\n      <td>No</td>\n      <td>No</td>\n      <td>No</td>\n      <td>No</td>\n      <td>No</td>\n      <td>Ch</td>\n      <td>Yes</td>\n      <td>NO</td>\n    </tr>\n    <tr>\n      <th>4</th>\n      <td>16680</td>\n      <td>42519267</td>\n      <td>Caucasian</td>\n      <td>Male</td>\n      <td>[40-50)</td>\n      <td>1</td>\n      <td>1</td>\n      <td>7</td>\n      <td>1</td>\n      <td>51</td>\n      <td>...</td>\n      <td>No</td>\n      <td>Steady</td>\n      <td>No</td>\n      <td>No</td>\n      <td>No</td>\n      <td>No</td>\n      <td>No</td>\n      <td>Ch</td>\n      <td>Yes</td>\n      <td>NO</td>\n    </tr>\n  </tbody>\n</table>\n<p>5 rows × 44 columns</p>\n</div>"
          },
          "metadata": {}
        }
      ]
    },
    {
      "metadata": {
        "scrolled": true,
        "trusted": true
      },
      "cell_type": "code",
      "source": "data.dropna(axis=0, inplace=True)\n\ndata.shape\n",
      "execution_count": 22,
      "outputs": [
        {
          "output_type": "execute_result",
          "execution_count": 22,
          "data": {
            "text/plain": "(98052, 44)"
          },
          "metadata": {}
        }
      ]
    },
    {
      "metadata": {},
      "cell_type": "markdown",
      "source": "## Create tableOne"
    },
    {
      "metadata": {},
      "cell_type": "markdown",
      "source": "The columns below don't include non-informative features, those where the overwhelming majority (>90%) is one category"
    },
    {
      "metadata": {
        "trusted": true
      },
      "cell_type": "code",
      "source": "# list of columns to be included in tableone\ncolumns = [u'race', u'gender', u'age',\n       u'time_in_hospital', u'num_lab_procedures', u'num_procedures',\n       u'num_medications', u'number_outpatient', \n       u'number_inpatient', u'number_diagnoses', u'metformin',\n       u'glipizide', u'glyburide', u'insulin',\n       u'change', u'diabetesMed', u'readmitted']\n\nnumerical = [u'time_in_hospital', u'num_lab_procedures', u'num_procedures',\n       u'num_medications', u'number_outpatient', u'number_emergency',\n       u'number_inpatient', u'number_diagnoses']\n\n# list of columns containing categorical variables\ncategorical = [u'race', u'gender', u'age', u'metformin', u'glipizide', u'glyburide', u'insulin', \n               u'change', u'diabetesMed', u'readmitted']",
      "execution_count": 26,
      "outputs": []
    },
    {
      "metadata": {
        "trusted": true
      },
      "cell_type": "code",
      "source": "# create an instance of TableOne with the input arguments\n\noverall_table = TableOne(data, columns, categorical)",
      "execution_count": 27,
      "outputs": []
    },
    {
      "metadata": {
        "scrolled": false,
        "trusted": true
      },
      "cell_type": "code",
      "source": "overall_table",
      "execution_count": 28,
      "outputs": [
        {
          "output_type": "execute_result",
          "execution_count": 28,
          "data": {
            "text/plain": "Overall\n                                 overall        isnull\n-------------------------------  -------------  --------\nn                                98052\ntime_in_hospital (mean (std))    4.42 (2.99)    0\nnum_lab_procedures (mean (std))  43.15 (19.71)  0\nnum_procedures (mean (std))      1.35 (1.71)    0\nnum_medications (mean (std))     16.12 (8.11)   0\nnumber_outpatient (mean (std))   0.38 (1.28)    0\nnumber_inpatient (mean (std))    0.65 (1.27)    0\nnumber_diagnoses (mean (std))    7.51 (1.83)    0\nrace (n (%))                                    0\nAfricanAmerican                  18881 (19.26)\nAsian                            625 (0.64)\nCaucasian                        75079 (76.57)\nHispanic                         1984 (2.02)\nOther                            1483 (1.51)\ngender (n (%))                                  0\nFemale                           52833 (53.88)\nMale                             45219 (46.12)\nage (n (%))                                     0\n[0-10)                           65 (0.07)\n[10-20)                          466 (0.48)\n[20-30)                          1478 (1.51)\n[30-40)                          3548 (3.62)\n[40-50)                          9265 (9.45)\n[50-60)                          16697 (17.03)\n[60-70)                          21809 (22.24)\n[70-80)                          25305 (25.81)\n[80-90)                          16702 (17.03)\n[90-100)                         2717 (2.77)\nmetformin (n (%))                               0\nDown                             551 (0.56)\nNo                               78807 (80.37)\nSteady                           17677 (18.03)\nUp                               1017 (1.04)\nglipizide (n (%))                               0\nDown                             541 (0.55)\nNo                               85769 (87.47)\nSteady                           10990 (11.21)\nUp                               752 (0.77)\nglyburide (n (%))                               0\nDown                             538 (0.55)\nNo                               87791 (89.54)\nSteady                           8932 (9.11)\nUp                               791 (0.81)\ninsulin (n (%))                                 0\nDown                             11843 (12.08)\nNo                               45942 (46.85)\nSteady                           29368 (29.95)\nUp                               10899 (11.12)\nchange (n (%))                                  0\nCh                               45278 (46.18)\nNo                               52774 (53.82)\ndiabetesMed (n (%))                             0\nNo                               22702 (23.15)\nYes                              75350 (76.85)\nreadmitted (n (%))                              0\n<30                              11066 (11.29)\n>30                              34649 (35.34)\nNO                               52337 (53.38)"
          },
          "metadata": {}
        }
      ]
    },
    {
      "metadata": {},
      "cell_type": "markdown",
      "source": "Notice the age groups, do we really want to keep the children and young adults (under 30) in the dataset?"
    },
    {
      "metadata": {
        "trusted": true
      },
      "cell_type": "code",
      "source": "young_patients = ['[0-10)', '[10-20)', '[20-30)']",
      "execution_count": 29,
      "outputs": []
    },
    {
      "metadata": {
        "scrolled": true,
        "trusted": true
      },
      "cell_type": "code",
      "source": "data = data[~data['age'].isin(young_patients)]",
      "execution_count": 30,
      "outputs": []
    },
    {
      "metadata": {},
      "cell_type": "markdown",
      "source": "## Duplication"
    },
    {
      "metadata": {
        "trusted": true
      },
      "cell_type": "code",
      "source": "data.shape",
      "execution_count": 31,
      "outputs": [
        {
          "output_type": "execute_result",
          "execution_count": 31,
          "data": {
            "text/plain": "(96043, 44)"
          },
          "metadata": {}
        }
      ]
    },
    {
      "metadata": {
        "trusted": true
      },
      "cell_type": "code",
      "source": "",
      "execution_count": null,
      "outputs": []
    },
    {
      "metadata": {},
      "cell_type": "markdown",
      "source": "- How many rows and variables are there in this data set?\n- Is there only one observation per patient?"
    },
    {
      "metadata": {
        "trusted": true
      },
      "cell_type": "code",
      "source": "print data.shape\n\nprint len(data.patient_nbr.unique())",
      "execution_count": 32,
      "outputs": [
        {
          "output_type": "stream",
          "text": "(96043, 44)\n67222\n",
          "name": "stdout"
        }
      ]
    },
    {
      "metadata": {},
      "cell_type": "markdown",
      "source": "We want to cluster our dataset into diabetic patients subgroups. However we need to be carefull not to include the same patient more than once. How do we decide which measurement to keep for each patient?"
    },
    {
      "metadata": {
        "trusted": true
      },
      "cell_type": "code",
      "source": "# Use the groupby method on the dataframe to group all observetions on the basis of patient number\n\npatient_groups = data.groupby('patient_nbr') \n\n# Now inspect this groupby object, for example call:\n\n# the following command will start printing the whole dictionary of grouped items:\n\n# patient_groups.groups",
      "execution_count": 33,
      "outputs": []
    },
    {
      "metadata": {},
      "cell_type": "markdown",
      "source": "The .groups method in the groupby object returns a dictionary where the key is the value groupby column (here the patient number) and the value is the list of indeces that share the same key."
    },
    {
      "metadata": {
        "trusted": true
      },
      "cell_type": "code",
      "source": "#How many encounters has each patient got?\npatient_groups['encounter_id'].count().head(10)",
      "execution_count": 34,
      "outputs": [
        {
          "output_type": "execute_result",
          "execution_count": 34,
          "data": {
            "text/plain": "patient_nbr\n135     2\n378     1\n729     1\n774     1\n927     1\n1152    3\n1305    1\n1314    3\n1629    1\n2025    1\nName: encounter_id, dtype: int64"
          },
          "metadata": {}
        }
      ]
    },
    {
      "metadata": {},
      "cell_type": "markdown",
      "source": "Somewhat arbitrarily, since there are no timestamps in this dataset, we decide to keep the latest (maximum) encounter number per patient. The group by object can give us that straight away:"
    },
    {
      "metadata": {
        "trusted": true
      },
      "cell_type": "code",
      "source": "max_encounter = patient_groups['encounter_id'].max().to_dict()",
      "execution_count": 35,
      "outputs": []
    },
    {
      "metadata": {
        "trusted": true
      },
      "cell_type": "code",
      "source": "print len(max_encounter)\n\n#and above we saw that:\n    \nprint len(data.patient_nbr.unique())",
      "execution_count": 36,
      "outputs": [
        {
          "output_type": "stream",
          "text": "67222\n67222\n",
          "name": "stdout"
        }
      ]
    },
    {
      "metadata": {},
      "cell_type": "markdown",
      "source": "Now that we have the latest encounter, let's find it for each patient in the original dataset:"
    },
    {
      "metadata": {
        "trusted": true
      },
      "cell_type": "code",
      "source": "# This function checks to see whether the encounter id for each row is indeed the latest:\n\ndef is_latest(patid, enc_id):\n    if max_encounter[patid] == enc_id:\n        return 1\n    else:\n        return 0",
      "execution_count": 37,
      "outputs": []
    },
    {
      "metadata": {},
      "cell_type": "markdown",
      "source": "Let's add a column to the dataset to reflect that and then delete all rows with less recent data for duplicate patient numbers:"
    },
    {
      "metadata": {
        "trusted": true
      },
      "cell_type": "code",
      "source": "data['is_latest'] = data.apply(lambda row: is_latest(row['patient_nbr'], row['encounter_id']), axis=1)\n\ndata_latest = data[data['is_latest'] == 1].copy()\n\ndata_latest.drop('is_latest', axis=1, inplace=True) #no need for this column anymore\n\nprint data_latest.shape[0]",
      "execution_count": 38,
      "outputs": [
        {
          "output_type": "stream",
          "text": "67222\n",
          "name": "stdout"
        }
      ]
    },
    {
      "metadata": {},
      "cell_type": "markdown",
      "source": "Is this a correct approach? What else could we have done? \n\nDiscuss."
    },
    {
      "metadata": {
        "trusted": true
      },
      "cell_type": "code",
      "source": "overall_table_latest = TableOne(data_latest, columns, categorical)",
      "execution_count": 39,
      "outputs": []
    },
    {
      "metadata": {
        "trusted": true
      },
      "cell_type": "code",
      "source": "overall_table_latest",
      "execution_count": 40,
      "outputs": [
        {
          "output_type": "execute_result",
          "execution_count": 40,
          "data": {
            "text/plain": "Overall\n                                 overall        isnull\n-------------------------------  -------------  --------\nn                                67222\ntime_in_hospital (mean (std))    4.36 (3.00)    0\nnum_lab_procedures (mean (std))  43.45 (19.86)  0\nnum_procedures (mean (std))      1.42 (1.75)    0\nnum_medications (mean (std))     16.07 (8.26)   0\nnumber_outpatient (mean (std))   0.33 (1.19)    0\nnumber_inpatient (mean (std))    0.48 (0.99)    0\nnumber_diagnoses (mean (std))    7.47 (1.85)    0\nrace (n (%))                                    0\nAfricanAmerican                  12225 (18.19)\nAsian                            493 (0.73)\nCaucasian                        51971 (77.31)\nHispanic                         1407 (2.09)\nOther                            1126 (1.68)\ngender (n (%))                                  0\nFemale                           35690 (53.09)\nMale                             31532 (46.91)\nage (n (%))                                     0\n[30-40)                          2474 (3.68)\n[40-50)                          6412 (9.54)\n[50-60)                          11884 (17.68)\n[60-70)                          15361 (22.85)\n[70-80)                          17599 (26.18)\n[80-90)                          11512 (17.13)\n[90-100)                         1980 (2.95)\nmetformin (n (%))                               0\nDown                             408 (0.61)\nNo                               53409 (79.45)\nSteady                           12666 (18.84)\nUp                               739 (1.10)\nglipizide (n (%))                               0\nDown                             338 (0.50)\nNo                               58754 (87.40)\nSteady                           7593 (11.30)\nUp                               537 (0.80)\nglyburide (n (%))                               0\nDown                             369 (0.55)\nNo                               60032 (89.30)\nSteady                           6257 (9.31)\nUp                               564 (0.84)\ninsulin (n (%))                                 0\nDown                             7210 (10.73)\nNo                               32777 (48.76)\nSteady                           20613 (30.66)\nUp                               6622 (9.85)\nchange (n (%))                                  0\nCh                               30057 (44.71)\nNo                               37165 (55.29)\ndiabetesMed (n (%))                             0\nNo                               16430 (24.44)\nYes                              50792 (75.56)\nreadmitted (n (%))                              0\n<30                              3111 (4.63)\n>30                              13370 (19.89)\nNO                               50741 (75.48)"
          },
          "metadata": {}
        }
      ]
    },
    {
      "metadata": {
        "trusted": true
      },
      "cell_type": "code",
      "source": "data_latest.to_csv('diabetic_data_clean.csv', index = False)",
      "execution_count": 41,
      "outputs": []
    },
    {
      "metadata": {
        "trusted": true
      },
      "cell_type": "code",
      "source": "",
      "execution_count": null,
      "outputs": []
    }
  ],
  "metadata": {
    "anaconda-cloud": {},
    "kernelspec": {
      "name": "python2",
      "display_name": "Python 2",
      "language": "python"
    },
    "language_info": {
      "mimetype": "text/x-python",
      "nbconvert_exporter": "python",
      "name": "python",
      "pygments_lexer": "ipython2",
      "version": "2.7.15",
      "file_extension": ".py",
      "codemirror_mode": {
        "version": 2,
        "name": "ipython"
      }
    }
  },
  "nbformat": 4,
  "nbformat_minor": 1
}